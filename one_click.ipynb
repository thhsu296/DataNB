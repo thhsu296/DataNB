{
 "cells": [
  {
   "cell_type": "code",
   "execution_count": null,
   "metadata": {},
   "outputs": [],
   "source": [
    "\"\"\"\n",
    "  Click the arrow on the left side of this block to generate and download the .csv files.\n",
    "  The block is to be executed at\n",
    "    https://colab.research.google.com/github/thhsu296/DataNB/blob/main/one_click.ipynb\n",
    "\"\"\"\n",
    "\n",
    "# Clone the repository from GitHub\n",
    "!git clone https://github.com/thhsu296/DataNB.git\n",
    "\n",
    "# Import modules\n",
    "from data_nb import DataNB\n",
    "from datetime import date\n",
    "from google.colab import files\n",
    "\n",
    "# Set filename\n",
    "today = date.today().strftime(\"%Y-%m-%d\")\n",
    "filename = f'dataNB-{today}.csv'\n",
    "\n",
    "# Generate the files and then download\n",
    "obj = DataNB()\n",
    "obj.download(folderName='./DataNB/data')\n",
    "obj.parse(folderName='./DataNB/data', patchName='./DataNB/patch.csv')\n",
    "obj.save(filename)\n",
    "files.download(filename)"
   ]
  },
  {
   "cell_type": "code",
   "execution_count": null,
   "metadata": {},
   "outputs": [],
   "source": []
  }
 ],
 "metadata": {
  "kernelspec": {
   "display_name": "Python 3",
   "language": "python",
   "name": "python3"
  },
  "language_info": {
   "codemirror_mode": {
    "name": "ipython",
    "version": 3
   },
   "file_extension": ".py",
   "mimetype": "text/x-python",
   "name": "python",
   "nbconvert_exporter": "python",
   "pygments_lexer": "ipython3",
   "version": "3.8.6"
  }
 },
 "nbformat": 4,
 "nbformat_minor": 4
}
