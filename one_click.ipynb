{
 "cells": [
  {
   "cell_type": "code",
   "execution_count": null,
   "metadata": {},
   "outputs": [],
   "source": [
    "# Download the script from GitHub\n",
    "!git clone https://github.com/thhsu296/DataNB.git\n",
    "\n",
    "# Import modules\n",
    "from DataNB.dataNB import dataNB\n",
    "from datetime import date\n",
    "from google.colab import files\n",
    "\n",
    "# Set filenames\n",
    "today = date.today().strftime(\"%Y-%m-%d\")\n",
    "filename = 'dataNB-{today}.csv'.format(today=today) # output without 0's\n",
    "filename0 = filename.replace('.csv', '_0.csv') # output with 0's\n",
    "\n",
    "# Generate the files and then download\n",
    "obj = dataNB()\n",
    "obj.download(folderName='./DataNB/store' )\n",
    "obj.parse( folderName='./DataNB/store', patchName='./DataNB/patch.csv' )\n",
    "obj.save(filename)\n",
    "files.download(filename)\n",
    "files.download(filename0)"
   ]
  },
  {
   "cell_type": "code",
   "execution_count": null,
   "metadata": {},
   "outputs": [],
   "source": []
  }
 ],
 "metadata": {
  "kernelspec": {
   "display_name": "Python 3",
   "language": "python",
   "name": "python3"
  },
  "language_info": {
   "codemirror_mode": {
    "name": "ipython",
    "version": 3
   },
   "file_extension": ".py",
   "mimetype": "text/x-python",
   "name": "python",
   "nbconvert_exporter": "python",
   "pygments_lexer": "ipython3",
   "version": "3.8.6"
  }
 },
 "nbformat": 4,
 "nbformat_minor": 4
}
